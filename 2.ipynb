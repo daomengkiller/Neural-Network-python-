{
 "cells": [
  {
   "cell_type": "code",
   "execution_count": 3,
   "metadata": {},
   "outputs": [
    {
     "name": "stdout",
     "output_type": "stream",
     "text": [
      "1.12.1\n"
     ]
    }
   ],
   "source": [
    "import numpy as np\n",
    "print(np.__version__)"
   ]
  },
  {
   "cell_type": "code",
   "execution_count": 4,
   "metadata": {},
   "outputs": [
    {
     "name": "stdout",
     "output_type": "stream",
     "text": [
      "[1 2 3]\n"
     ]
    }
   ],
   "source": [
    "array=np.array([1,2,3],dtype=np.uint8)\n",
    "print(array)"
   ]
  },
  {
   "cell_type": "code",
   "execution_count": 6,
   "metadata": {
    "collapsed": true
   },
   "outputs": [],
   "source": [
    "mat1=np.zeros((2,3))"
   ]
  },
  {
   "cell_type": "code",
   "execution_count": 8,
   "metadata": {},
   "outputs": [
    {
     "name": "stdout",
     "output_type": "stream",
     "text": [
      "(1, 2, 3, 4)\n",
      "24\n"
     ]
    }
   ],
   "source": [
    "nd=np.zeros((1,2,3,4))\n",
    "print (nd.shape)\n",
    "print(nd.size)"
   ]
  },
  {
   "cell_type": "code",
   "execution_count": 9,
   "metadata": {
    "collapsed": true
   },
   "outputs": [],
   "source": [
    "scalar=2\n",
    "mat=np.ones((2,3))\n",
    "mat1=scalar*mat"
   ]
  },
  {
   "cell_type": "code",
   "execution_count": 11,
   "metadata": {},
   "outputs": [
    {
     "name": "stdout",
     "output_type": "stream",
     "text": [
      "(2, 3) (3, 2)\n",
      "(3,) (3,)\n"
     ]
    }
   ],
   "source": [
    "mat=np.zeros((2,3))\n",
    "tmat=mat.T\n",
    "print(mat.shape,tmat.shape)\n",
    "mat3=np.array((1,2,3))\n",
    "tmat3=mat3.T\n",
    "print(mat3.shape,tmat3.shape)\n"
   ]
  },
  {
   "cell_type": "code",
   "execution_count": 14,
   "metadata": {
    "collapsed": true
   },
   "outputs": [],
   "source": [
    "mat1=np.array([[1,2],[3,4]])\n",
    "mat2=np.array([[5,6],[7,8]])\n",
    "mat3=mat1+(mat2)"
   ]
  },
  {
   "cell_type": "code",
   "execution_count": 15,
   "metadata": {
    "collapsed": true
   },
   "outputs": [],
   "source": [
    "mat3=mat1.dot(mat2)"
   ]
  },
  {
   "cell_type": "code",
   "execution_count": 16,
   "metadata": {
    "collapsed": true
   },
   "outputs": [],
   "source": [
    "mat=mat1*mat2#每个元素都相应相乘\n"
   ]
  },
  {
   "cell_type": "code",
   "execution_count": 17,
   "metadata": {
    "collapsed": true
   },
   "outputs": [],
   "source": [
    "mat1=scalar+mat#每个标量加到每个元素上"
   ]
  },
  {
   "cell_type": "code",
   "execution_count": 18,
   "metadata": {},
   "outputs": [
    {
     "name": "stdout",
     "output_type": "stream",
     "text": [
      "(1, 2, 3) (1, 3, 2)\n"
     ]
    }
   ],
   "source": [
    "mat3=np.zeros((1,2,3))\n",
    "tmat3=mat3.transpose(0,2,1)#将矩阵的维度改变，第0维不变，第2和1维交换\n",
    "print(mat3.shape,tmat3.shape)"
   ]
  },
  {
   "cell_type": "code",
   "execution_count": 22,
   "metadata": {},
   "outputs": [
    {
     "name": "stdout",
     "output_type": "stream",
     "text": [
      "[[1]\n",
      " [2]\n",
      " [3]]\n",
      "[[ 1.  1.]\n",
      " [ 2.  2.]\n",
      " [ 3.  3.]]\n"
     ]
    }
   ],
   "source": [
    "mat1=np.zeros((3,2))\n",
    "vec=np.array([[1],[2],[3]])\n",
    "print(vec)\n",
    "print(mat1+vec)"
   ]
  },
  {
   "cell_type": "code",
   "execution_count": 23,
   "metadata": {
    "collapsed": true
   },
   "outputs": [],
   "source": [
    "rannum=np.random.randn(5,10)"
   ]
  },
  {
   "cell_type": "code",
   "execution_count": 26,
   "metadata": {},
   "outputs": [
    {
     "name": "stdout",
     "output_type": "stream",
     "text": [
      "[1, 3, 2]\n"
     ]
    }
   ],
   "source": [
    "l=[1,2,3]\n",
    "np.random.shuffle(l)\n",
    "print(l)"
   ]
  },
  {
   "cell_type": "code",
   "execution_count": 28,
   "metadata": {},
   "outputs": [
    {
     "name": "stdout",
     "output_type": "stream",
     "text": [
      "[[ 0.82490006  0.18077698]\n",
      " [ 0.60256537  1.75333491]\n",
      " [-0.62687773  0.13380414]]\n",
      "2.86850371412\n"
     ]
    }
   ],
   "source": [
    "a=np.random.randn(3,2)\n",
    "print(a)\n",
    "print(np.sum(a))"
   ]
  },
  {
   "cell_type": "code",
   "execution_count": 29,
   "metadata": {},
   "outputs": [
    {
     "name": "stdout",
     "output_type": "stream",
     "text": [
      "[ 3.  3.]\n",
      "[ 2.  2.  2.]\n"
     ]
    }
   ],
   "source": [
    "a=np.ones((3,2))\n",
    "print(np.sum(a,axis=0))\n",
    "print(np.sum(a,axis=1))\n"
   ]
  },
  {
   "cell_type": "code",
   "execution_count": 31,
   "metadata": {},
   "outputs": [
    {
     "name": "stdout",
     "output_type": "stream",
     "text": [
      "[[ 1.17865405  5.15877812]\n",
      " [ 0.42142546  0.73683703]\n",
      " [ 1.59545823  3.49434084]]\n"
     ]
    }
   ],
   "source": [
    "a=np.random.randn(3,2)\n",
    "print(np.exp(a))"
   ]
  },
  {
   "cell_type": "code",
   "execution_count": 32,
   "metadata": {},
   "outputs": [
    {
     "name": "stdout",
     "output_type": "stream",
     "text": [
      "3\n"
     ]
    }
   ],
   "source": [
    "a=[1,2,3,4,3,2,1]\n",
    "print(np.argmax(a))"
   ]
  },
  {
   "cell_type": "code",
   "execution_count": null,
   "metadata": {
    "collapsed": true
   },
   "outputs": [],
   "source": []
  }
 ],
 "metadata": {
  "kernelspec": {
   "display_name": "Python 3",
   "language": "python",
   "name": "python3"
  },
  "language_info": {
   "codemirror_mode": {
    "name": "ipython",
    "version": 3
   },
   "file_extension": ".py",
   "mimetype": "text/x-python",
   "name": "python",
   "nbconvert_exporter": "python",
   "pygments_lexer": "ipython3",
   "version": "3.6.1"
  }
 },
 "nbformat": 4,
 "nbformat_minor": 2
}
