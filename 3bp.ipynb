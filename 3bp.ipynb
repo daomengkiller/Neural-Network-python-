{
 "cells": [
  {
   "cell_type": "code",
   "execution_count": 50,
   "metadata": {},
   "outputs": [],
   "source": [
    "import numpy as np\n",
    "class FullyConnect:\n",
    "    def __init__(self,l_x,l_y):\n",
    "        self.weights=np.random.randn(l_y,l_x)#构造两层之间的权重，初始化构造矩阵\n",
    "        self.bias=np.random.randn(1) #构造偏置参数\n",
    "    def forward(self,x):\n",
    "        self.x=x#x为输入数据\n",
    "        self.y=np.dot(self.weights,x)+self.bias#y为输出矩阵，为每个第二层的输出\n",
    "    \n",
    "        return self.y\n",
    "    def backward(self,d):\n",
    "        self.dw=d*self.x#\n",
    "        self.db=d\n",
    "        self.dx=d*self.weights\n",
    "        print('hhh',self.dw,'hhh',self.db,'hhh',self.dx)\n",
    "        return self.dw,self.db\n"
   ]
  },
  {
   "cell_type": "code",
   "execution_count": 53,
   "metadata": {
    "collapsed": true
   },
   "outputs": [],
   "source": [
    "class Sigmoid:\n",
    "    def __init__(self):\n",
    "        pass\n",
    "    def sigmoid(self,x):\n",
    "        return 1/(1+np.exp(x))\n",
    "    def forward(self,x):\n",
    "        self.x=x\n",
    "        self.y=self.sigmoid(x)\n",
    "        return self.y\n",
    "    def backward(self):\n",
    "        sig=self.sigmoid(self.x)\n",
    "        self.dx=sig*(1-sig)\n",
    "        return self.dx"
   ]
  },
  {
   "cell_type": "code",
   "execution_count": 54,
   "metadata": {},
   "outputs": [
    {
     "name": "stdout",
     "output_type": "stream",
     "text": [
      "weights: [[ 1.02624907  1.69606955]] bias [ 1.36918649] input: [[1]\n",
      " [2]]\n",
      "ddd [[ 5.78757465]]\n",
      "forward result: [[ 0.00305604]]\n",
      "hhh [[ 0.0030467]\n",
      " [ 0.0060934]] hhh [[ 0.0030467]] hhh [[ 0.00312667  0.00516742]]\n",
      "backward result: (array([[ 0.0030467],\n",
      "       [ 0.0060934]]), array([[ 0.0030467]]))\n"
     ]
    }
   ],
   "source": [
    "def main():\n",
    "    fc=FullyConnect(2,1)\n",
    "    sigmoid=Sigmoid()\n",
    "    x=np.array([[1],[2]])\n",
    "    print('weights:',fc.weights,'bias',fc.bias,'input:',x)\n",
    "    y1=fc.forward(x)\n",
    "    y2=sigmoid.forward(y1)\n",
    "    print('forward result:',y2)\n",
    "    d1=sigmoid.backward()\n",
    "    dx=fc.backward(d1)\n",
    "    print('backward result:',dx)\n",
    "if __name__=='__main__':\n",
    "    main()"
   ]
  },
  {
   "cell_type": "code",
   "execution_count": null,
   "metadata": {
    "collapsed": true
   },
   "outputs": [],
   "source": []
  }
 ],
 "metadata": {
  "kernelspec": {
   "display_name": "Python 3",
   "language": "python",
   "name": "python3"
  },
  "language_info": {
   "codemirror_mode": {
    "name": "ipython",
    "version": 3
   },
   "file_extension": ".py",
   "mimetype": "text/x-python",
   "name": "python",
   "nbconvert_exporter": "python",
   "pygments_lexer": "ipython3",
   "version": "3.6.1"
  }
 },
 "nbformat": 4,
 "nbformat_minor": 2
}
